{
 "cells": [
  {
   "cell_type": "code",
   "execution_count": 30,
   "id": "8a0265d5",
   "metadata": {},
   "outputs": [],
   "source": [
    "import scanpy as sc"
   ]
  },
  {
   "cell_type": "code",
   "execution_count": 31,
   "id": "dd0258ac",
   "metadata": {},
   "outputs": [
    {
     "data": {
      "text/plain": [
       "array([[10.479142 ,  6.536511 ],\n",
       "       [11.502898 ,  6.567293 ],\n",
       "       [10.937643 ,  6.809363 ],\n",
       "       ...,\n",
       "       [-2.517476 ,  9.455943 ],\n",
       "       [-1.1911128,  7.9335375],\n",
       "       [-0.3896108,  8.115399 ]], shape=(48983, 2), dtype=float32)"
      ]
     },
     "execution_count": 31,
     "metadata": {},
     "output_type": "execute_result"
    }
   ],
   "source": [
    "adata = sc.read_h5ad(\"AX4.h5ad\")\n",
    "adata.obsm[\"X_uce_umap\"]"
   ]
  },
  {
   "cell_type": "code",
   "execution_count": 32,
   "id": "b30d8bd5",
   "metadata": {},
   "outputs": [],
   "source": [
    "import pandas as pd\n",
    "\n",
    "# pick only the columns you want from obs\n",
    "obs_keep = adata.obs[[\"time\", \"cell_type\"]].copy()\n",
    "var_keep = adata.var[[\"gene_ids\", \"Gene Symbol\"]].copy()\n",
    "\n",
    "# build the new AnnData with the same X/var and only selected obs\n",
    "adata2 = sc.AnnData(\n",
    "    X=adata.X,                 # keeps sparse/dense as-is\n",
    "    obs=obs_keep,\n",
    "    var=var_keep\n",
    ")\n",
    "\n",
    "# copy just the embedding you care about\n",
    "adata2.obsm[\"X_uce_umap\"] = adata.obsm[\"X_uce_umap\"]\n"
   ]
  },
  {
   "cell_type": "code",
   "execution_count": 33,
   "id": "6a78977a",
   "metadata": {},
   "outputs": [
    {
     "data": {
      "text/plain": [
       "AnnData object with n_obs × n_vars = 48983 × 12883\n",
       "    obs: 'time', 'cell_type'\n",
       "    var: 'gene_ids', 'Gene Symbol'\n",
       "    obsm: 'X_uce_umap'"
      ]
     },
     "execution_count": 33,
     "metadata": {},
     "output_type": "execute_result"
    }
   ],
   "source": [
    "adata2"
   ]
  },
  {
   "cell_type": "code",
   "execution_count": 24,
   "id": "7308e459",
   "metadata": {},
   "outputs": [],
   "source": [
    "for k in (\"connectivities\", \"distances\"):\n",
    "    if k in adata2.obsp: del adata2.obsp[k]\n",
    "if \"neighbors\" in adata2.uns: del adata2.uns[\"neighbors\"]\n",
    "for k in (\"rank_genes_groups\", \"dendrogram\", \"paga\", \"leiden\", \"louvain\"):\n",
    "    if k in adata2.uns: del adata2.uns[k]\n"
   ]
  },
  {
   "cell_type": "code",
   "execution_count": 26,
   "id": "3cec5c94",
   "metadata": {},
   "outputs": [],
   "source": [
    "import scipy.sparse as sp\n",
    "if not sp.issparse(adata.X):\n",
    "    adata.X = sp.csr_matrix(adata.X) \n",
    "adata.X = adata.X.astype(\"uint32\")     # or \"uint16\" if max <= 65535\n",
    "\n"
   ]
  },
  {
   "cell_type": "code",
   "execution_count": 34,
   "id": "1bdb3f16",
   "metadata": {},
   "outputs": [],
   "source": [
    "adata2.write(\"AX4.h5ad.gz\", compression=\"gzip\")"
   ]
  },
  {
   "cell_type": "code",
   "execution_count": null,
   "id": "e028f537",
   "metadata": {},
   "outputs": [
    {
     "ename": "",
     "evalue": "",
     "output_type": "error",
     "traceback": [
      "\u001b[1;31mnotebook controller is DISPOSED. \n",
      "\u001b[1;31mView Jupyter <a href='command:jupyter.viewOutput'>log</a> for further details."
     ]
    }
   ],
   "source": []
  },
  {
   "cell_type": "code",
   "execution_count": null,
   "id": "9e6830d7",
   "metadata": {},
   "outputs": [],
   "source": []
  }
 ],
 "metadata": {
  "kernelspec": {
   "display_name": "resolwe3",
   "language": "python",
   "name": "python3"
  },
  "language_info": {
   "codemirror_mode": {
    "name": "ipython",
    "version": 3
   },
   "file_extension": ".py",
   "mimetype": "text/x-python",
   "name": "python",
   "nbconvert_exporter": "python",
   "pygments_lexer": "ipython3",
   "version": "3.12.11"
  }
 },
 "nbformat": 4,
 "nbformat_minor": 5
}
